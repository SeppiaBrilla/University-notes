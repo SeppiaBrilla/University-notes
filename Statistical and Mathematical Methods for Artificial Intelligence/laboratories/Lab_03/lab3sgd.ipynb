{
 "cells": [
  {
   "cell_type": "code",
   "execution_count": 2,
   "metadata": {},
   "outputs": [],
   "source": [
    "import numpy as np\n",
    "import pandas as pd\n",
    "import matplotlib.pyplot as plt\n",
    "from skimage import data\n",
    "from skimage import color\n",
    "import scipy.sparse\n",
    "import scipy.sparse.linalg\n",
    "import random\n",
    "import sys"
   ]
  },
  {
   "cell_type": "code",
   "execution_count": 3,
   "metadata": {},
   "outputs": [],
   "source": [
    "data = pd.read_csv('./data.csv')\n",
    "matrix = np.array(data)"
   ]
  },
  {
   "cell_type": "code",
   "execution_count": 3,
   "metadata": {},
   "outputs": [],
   "source": [
    "def filter_data(images, labels, digits, negate):\n",
    "    mask = np.zeros(len(labels)).astype(bool)\n",
    "    for digit in digits:\n",
    "        mask += mask | labels == digit\n",
    "    return (images[:,~mask], labels[~mask]) if not negate else (images[:,mask], labels[mask])"
   ]
  },
  {
   "cell_type": "code",
   "execution_count": 10,
   "metadata": {},
   "outputs": [],
   "source": [
    "def SGD(l, grad_l, w0, data, batch_size, n_epoch, alpha):\n",
    "    X, Y = data\n",
    "    d, N = X.shape\n",
    "    epoch_iter = int(N / batch_size)\n",
    "    w = w0\n",
    "    X_copy = np.copy(X)\n",
    "    Y_copy = np.copy(Y)\n",
    "    for epoch in range(n_epoch):\n",
    "        # print(epoch)\n",
    "        for epoch in range(epoch_iter):\n",
    "            d, N = X.shape\n",
    "            indices = np.arange(N)\n",
    "            batch_idx = np.random.choice(indices, batch_size)\n",
    "            mask = np.zeros((N, ), dtype=bool)\n",
    "            mask[batch_idx] = True\n",
    "            x_batch = X[:, mask]\n",
    "            y_batch = Y[mask]\n",
    "            grad = grad_l((w, x_batch, y_batch))\n",
    "            w = w - alpha * grad.T\n",
    "            X = X[:, ~mask]\n",
    "            Y = Y[~mask]\n",
    "        X = np.copy(X_copy)\n",
    "        Y = np.copy(Y_copy)\n",
    "    return w"
   ]
  },
  {
   "cell_type": "code",
   "execution_count": 4,
   "metadata": {},
   "outputs": [],
   "source": [
    "def fw(w, x):\n",
    "    return sigmoid(x.T @ w)\n",
    "\n",
    "def sigmoid(z): \n",
    "    sig = 1 / (1 + np.exp(-z))\n",
    "    return sig\n",
    "\n",
    "def grad_l(inputs):\n",
    "    w = inputs[0]\n",
    "    x = inputs[1]\n",
    "    y = inputs[2]\n",
    "    N = np.size(y)\n",
    "    sigmoid_value = sigmoid(x.T @ w)\n",
    "    return 1/N * (2 * (sigmoid_value - y).T @ (sigmoid_value * (1 - sigmoid_value) * x.T))"
   ]
  },
  {
   "cell_type": "code",
   "execution_count": 7,
   "metadata": {},
   "outputs": [],
   "source": [
    "def getHat(X, w):\n",
    "    X_hat = np.concatenate((np.ones((1,X.shape[1])), X), axis = 0)\n",
    "    w_hat = np.concatenate((np.ones((1,w.shape[1])), w), axis = 0)\n",
    "    return (X_hat, w_hat)\n",
    "\n",
    "def split_data(X, Y, Ntrain):\n",
    "    d, N = X.shape\n",
    "    idx = np.arange(N)\n",
    "    np.random.shuffle(idx)\n",
    "    train_idx = idx[:Ntrain]\n",
    "    test_idx = idx[Ntrain:]\n",
    "    Xtrain = X[:, train_idx]\n",
    "    Ytrain = Y[train_idx]\n",
    "    \n",
    "    Xtest = X[:, test_idx]\n",
    "    Ytest = Y[test_idx]\n",
    "\n",
    "    return (Xtrain, Ytrain), (Xtest, Ytest)"
   ]
  },
  {
   "cell_type": "code",
   "execution_count": 91,
   "metadata": {},
   "outputs": [],
   "source": [
    "digits = [0,1]\n",
    "\n",
    "X = (matrix[:,1:]).T\n",
    "Y = matrix[:,0]\n",
    "\n",
    "X, Y = filter_data(X, Y, digits, True)\n",
    "\n",
    "d, N = X.shape\n",
    "X = X/255\n",
    "w_start = np.zeros((d,1))\n",
    "\n",
    "epoch = 10\n",
    "batch_size = 100\n",
    "\n",
    "X, w_start = getHat(X, w_start)\n",
    "Y = Y.reshape((N,1))\n",
    "sgd = SGD(fw, grad_l, w_start, (X, Y), batch_size, epoch, 1)"
   ]
  },
  {
   "cell_type": "code",
   "execution_count": 11,
   "metadata": {},
   "outputs": [
    {
     "name": "stdout",
     "output_type": "stream",
     "text": [
      "Shape of X: (2, 500)\n",
      "Shape of Y: (500,)\n"
     ]
    }
   ],
   "source": [
    "from sklearn.datasets import make_classification\n",
    "\n",
    "# Load data\n",
    "X, Y = make_classification(n_samples=500, n_features=2, n_redundant=0, n_informative=1, \n",
    "                            n_clusters_per_class=1)\n",
    "X = X.T # To make it d x N\n",
    "\n",
    "# Check the shape\n",
    "print(f\"Shape of X: {X.shape}\")\n",
    "print(f\"Shape of Y: {Y.shape}\")\n",
    "\n",
    "# Memorize the shape\n",
    "d, N = X.shape\n",
    "\n",
    "epoch = 10\n",
    "batch_size = 100\n",
    "\n",
    "# Add dimension on Y\n",
    "# Y = Y.reshape((N, 1))\n",
    "n_points = int(len(Y) * 8 / 10)\n",
    "(Xtrain, Ytrain), (Xtest, Ytest) = split_data(X, Y, n_points)\n",
    "\n",
    "w_start = np.zeros((d,1))\n",
    "X_hat, w_start = getHat(Xtrain, w_start)\n",
    "sgd = SGD(fw, grad_l, w_start, (X_hat, Ytrain), batch_size, epoch, 1)\n",
    "sgd_calc = lambda x: -sgd[1] / sgd[2] * x - sgd[0] / sgd[2]  \n",
    "x = np.linspace(X.min(), X.max(), 1000)\n",
    "y = [sgd_calc(xi) for xi in x]"
   ]
  },
  {
   "cell_type": "code",
   "execution_count": 16,
   "metadata": {},
   "outputs": [
    {
     "ename": "IndexError",
     "evalue": "too many indices for array: array is 2-dimensional, but 3 were indexed",
     "output_type": "error",
     "traceback": [
      "\u001b[0;31m---------------------------------------------------------------------------\u001b[0m",
      "\u001b[0;31mIndexError\u001b[0m                                Traceback (most recent call last)",
      "Cell \u001b[0;32mIn [16], line 6\u001b[0m\n\u001b[1;32m      4\u001b[0m Ytest0 \u001b[39m=\u001b[39m Ytest[I0]\n\u001b[1;32m      5\u001b[0m Ytest1 \u001b[39m=\u001b[39m Ytest[I1]\n\u001b[0;32m----> 6\u001b[0m Xtest0 \u001b[39m=\u001b[39m Xtest[:, I0]\n\u001b[1;32m      7\u001b[0m Xtest1 \u001b[39m=\u001b[39m Xtest[:, I1]\n\u001b[1;32m      9\u001b[0m plt\u001b[39m.\u001b[39mscatter(Xtest0[\u001b[39m0\u001b[39m,:],Xtest0[\u001b[39m1\u001b[39m,:], c \u001b[39m=\u001b[39m Ytest0)\n",
      "\u001b[0;31mIndexError\u001b[0m: too many indices for array: array is 2-dimensional, but 3 were indexed"
     ]
    }
   ],
   "source": [
    "I0 = (Ytest==0)\n",
    "I1 = (Ytest==1)\n",
    "\n",
    "Ytest0 = Ytest[I0]\n",
    "Ytest1 = Ytest[I1]\n",
    "Xtest0 = Xtest[:, I0]\n",
    "Xtest1 = Xtest[:, I1]\n",
    "\n",
    "plt.scatter(Xtest0[0,:],Xtest0[1,:], c = Ytest0)\n",
    "plt.plot(x,y)\n",
    "plt.show()\n",
    "\n",
    "plt.scatter(Xtest1[0,:],Xtest1[1,:], c = Ytest1)\n",
    "plt.plot(x,y)\n",
    "plt.show()"
   ]
  },
  {
   "cell_type": "code",
   "execution_count": 27,
   "metadata": {},
   "outputs": [],
   "source": [
    "def classificator(w, x, treshold = 0.5):\n",
    "    return sigmoid(x.T @ w) >= treshold"
   ]
  },
  {
   "cell_type": "code",
   "execution_count": 29,
   "metadata": {},
   "outputs": [
    {
     "name": "stdout",
     "output_type": "stream",
     "text": [
      "19.400000000000002\n"
     ]
    }
   ],
   "source": [
    "correct_y = []\n",
    "for i in range(np.size(Ytest)):\n",
    "    x = Xtest[:,i]\n",
    "    x = np.insert(x,0,1)\n",
    "    y = Ytest[i]\n",
    "    classification = classificator(sgd, x)\n",
    "    y_hat = 1 if classificator(sgd, x) else 0\n",
    "    if y == y_hat:\n",
    "        correct_y.append(i)\n",
    "print(len(correct_y) / np.size(Y) * 100)"
   ]
  }
 ],
 "metadata": {
  "kernelspec": {
   "display_name": "Python 3.10.6 64-bit",
   "language": "python",
   "name": "python3"
  },
  "language_info": {
   "codemirror_mode": {
    "name": "ipython",
    "version": 3
   },
   "file_extension": ".py",
   "mimetype": "text/x-python",
   "name": "python",
   "nbconvert_exporter": "python",
   "pygments_lexer": "ipython3",
   "version": "3.10.6"
  },
  "orig_nbformat": 4,
  "vscode": {
   "interpreter": {
    "hash": "916dbcbb3f70747c44a77c7bcd40155683ae19c65e1c03b4aa3499c5328201f1"
   }
  }
 },
 "nbformat": 4,
 "nbformat_minor": 2
}
