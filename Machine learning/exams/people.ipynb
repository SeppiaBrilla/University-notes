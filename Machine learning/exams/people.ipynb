{
 "cells": [
  {
   "cell_type": "code",
   "execution_count": 1,
   "metadata": {},
   "outputs": [],
   "source": [
    "import pandas as pd"
   ]
  },
  {
   "cell_type": "code",
   "execution_count": 2,
   "metadata": {},
   "outputs": [
    {
     "data": {
      "text/html": [
       "<div>\n",
       "<style scoped>\n",
       "    .dataframe tbody tr th:only-of-type {\n",
       "        vertical-align: middle;\n",
       "    }\n",
       "\n",
       "    .dataframe tbody tr th {\n",
       "        vertical-align: top;\n",
       "    }\n",
       "\n",
       "    .dataframe thead th {\n",
       "        text-align: right;\n",
       "    }\n",
       "</style>\n",
       "<table border=\"1\" class=\"dataframe\">\n",
       "  <thead>\n",
       "    <tr style=\"text-align: right;\">\n",
       "      <th></th>\n",
       "      <th>Name</th>\n",
       "      <th>preference 1</th>\n",
       "      <th>prefrence 2</th>\n",
       "      <th>preference 3</th>\n",
       "    </tr>\n",
       "  </thead>\n",
       "  <tbody>\n",
       "    <tr>\n",
       "      <th>0</th>\n",
       "      <td>Ioannis Pastellas/UCY</td>\n",
       "      <td>p.3</td>\n",
       "      <td>p.7</td>\n",
       "      <td>p.6</td>\n",
       "    </tr>\n",
       "    <tr>\n",
       "      <th>1</th>\n",
       "      <td>Mattia Angelini/UCY</td>\n",
       "      <td>p.3</td>\n",
       "      <td>p.7</td>\n",
       "      <td>p.6</td>\n",
       "    </tr>\n",
       "    <tr>\n",
       "      <th>2</th>\n",
       "      <td>Irene Kyriacou/ UCY</td>\n",
       "      <td>p.5</td>\n",
       "      <td>p.7</td>\n",
       "      <td>p.1</td>\n",
       "    </tr>\n",
       "    <tr>\n",
       "      <th>3</th>\n",
       "      <td>Giuseppe Carrino/University of Bologna</td>\n",
       "      <td>p.2</td>\n",
       "      <td>p.3</td>\n",
       "      <td>p.5</td>\n",
       "    </tr>\n",
       "    <tr>\n",
       "      <th>4</th>\n",
       "      <td>Kankana Ghosh/University of Bologna</td>\n",
       "      <td>p.1</td>\n",
       "      <td>p.6</td>\n",
       "      <td>p.5</td>\n",
       "    </tr>\n",
       "  </tbody>\n",
       "</table>\n",
       "</div>"
      ],
      "text/plain": [
       "                                     Name preference 1 prefrence 2  \\\n",
       "0                   Ioannis Pastellas/UCY          p.3         p.7   \n",
       "1                     Mattia Angelini/UCY          p.3         p.7   \n",
       "2                    Irene Kyriacou/ UCY           p.5         p.7   \n",
       "3  Giuseppe Carrino/University of Bologna          p.2         p.3   \n",
       "4     Kankana Ghosh/University of Bologna          p.1         p.6   \n",
       "\n",
       "   preference 3  \n",
       "0           p.6  \n",
       "1           p.6  \n",
       "2           p.1  \n",
       "3           p.5  \n",
       "4           p.5  "
      ]
     },
     "execution_count": 2,
     "metadata": {},
     "output_type": "execute_result"
    }
   ],
   "source": [
    "data = pd.read_csv('./people.csv')\n",
    "data.head()"
   ]
  },
  {
   "cell_type": "code",
   "execution_count": 3,
   "metadata": {},
   "outputs": [
    {
     "data": {
      "text/html": [
       "<div>\n",
       "<style scoped>\n",
       "    .dataframe tbody tr th:only-of-type {\n",
       "        vertical-align: middle;\n",
       "    }\n",
       "\n",
       "    .dataframe tbody tr th {\n",
       "        vertical-align: top;\n",
       "    }\n",
       "\n",
       "    .dataframe thead th {\n",
       "        text-align: right;\n",
       "    }\n",
       "</style>\n",
       "<table border=\"1\" class=\"dataframe\">\n",
       "  <thead>\n",
       "    <tr style=\"text-align: right;\">\n",
       "      <th></th>\n",
       "      <th>Name</th>\n",
       "      <th>preference 1</th>\n",
       "      <th>prefrence 2</th>\n",
       "      <th>preference 3</th>\n",
       "      <th>university</th>\n",
       "    </tr>\n",
       "  </thead>\n",
       "  <tbody>\n",
       "    <tr>\n",
       "      <th>0</th>\n",
       "      <td>Ioannis Pastellas</td>\n",
       "      <td>p.3</td>\n",
       "      <td>p.7</td>\n",
       "      <td>p.6</td>\n",
       "      <td>UCY</td>\n",
       "    </tr>\n",
       "    <tr>\n",
       "      <th>1</th>\n",
       "      <td>Mattia Angelini</td>\n",
       "      <td>p.3</td>\n",
       "      <td>p.7</td>\n",
       "      <td>p.6</td>\n",
       "      <td>UCY</td>\n",
       "    </tr>\n",
       "    <tr>\n",
       "      <th>2</th>\n",
       "      <td>Irene Kyriacou</td>\n",
       "      <td>p.5</td>\n",
       "      <td>p.7</td>\n",
       "      <td>p.1</td>\n",
       "      <td>UCY</td>\n",
       "    </tr>\n",
       "    <tr>\n",
       "      <th>3</th>\n",
       "      <td>Giuseppe Carrino</td>\n",
       "      <td>p.2</td>\n",
       "      <td>p.3</td>\n",
       "      <td>p.5</td>\n",
       "      <td>University of Bologna</td>\n",
       "    </tr>\n",
       "    <tr>\n",
       "      <th>4</th>\n",
       "      <td>Kankana Ghosh</td>\n",
       "      <td>p.1</td>\n",
       "      <td>p.6</td>\n",
       "      <td>p.5</td>\n",
       "      <td>University of Bologna</td>\n",
       "    </tr>\n",
       "  </tbody>\n",
       "</table>\n",
       "</div>"
      ],
      "text/plain": [
       "                Name preference 1 prefrence 2  preference 3  \\\n",
       "0  Ioannis Pastellas          p.3         p.7           p.6   \n",
       "1    Mattia Angelini          p.3         p.7           p.6   \n",
       "2     Irene Kyriacou          p.5         p.7           p.1   \n",
       "3   Giuseppe Carrino          p.2         p.3           p.5   \n",
       "4      Kankana Ghosh          p.1         p.6           p.5   \n",
       "\n",
       "              university  \n",
       "0                    UCY  \n",
       "1                    UCY  \n",
       "2                   UCY   \n",
       "3  University of Bologna  \n",
       "4  University of Bologna  "
      ]
     },
     "execution_count": 3,
     "metadata": {},
     "output_type": "execute_result"
    }
   ],
   "source": [
    "data['university'] = data['Name'].apply(lambda name: name.split('/')[1])\n",
    "data['Name'] = data['Name'].apply(lambda name: name.split('/')[0])\n",
    "data.head()"
   ]
  },
  {
   "cell_type": "code",
   "execution_count": 4,
   "metadata": {},
   "outputs": [
    {
     "name": "stdout",
     "output_type": "stream",
     "text": [
      "(9, 5)\n",
      "(12, 5)\n",
      "(11, 5)\n"
     ]
    }
   ],
   "source": [
    "print(data[data['preference 1'] == 'p.1'].shape)\n",
    "print(data[data['prefrence 2'] == 'p.3'].shape)\n",
    "print(data[data[' preference 3'] == 'p.2'].shape)"
   ]
  },
  {
   "cell_type": "code",
   "execution_count": 5,
   "metadata": {},
   "outputs": [],
   "source": [
    "def getIndex(data):\n",
    "    return data == 'p.1' or data == 'p.2' or data == 'p.3' \n",
    "projects_as_mine = data[['preference 1', 'prefrence 2', ' preference 3']].applymap(getIndex)\n",
    "projects_as_mine = data[['preference 1', 'prefrence 2', ' preference 3']].applymap(getIndex)\n",
    "projects_as_mine = data[['preference 1', 'prefrence 2', ' preference 3']].applymap(getIndex)"
   ]
  },
  {
   "cell_type": "code",
   "execution_count": 20,
   "metadata": {},
   "outputs": [],
   "source": [
    "projects_as_mine = projects_as_mine.applymap(lambda x: 1 if x else 0)"
   ]
  },
  {
   "cell_type": "code",
   "execution_count": 25,
   "metadata": {},
   "outputs": [],
   "source": [
    "count = projects_as_mine.sum(axis=0)"
   ]
  },
  {
   "cell_type": "code",
   "execution_count": 24,
   "metadata": {},
   "outputs": [
    {
     "data": {
      "text/html": [
       "<div>\n",
       "<style scoped>\n",
       "    .dataframe tbody tr th:only-of-type {\n",
       "        vertical-align: middle;\n",
       "    }\n",
       "\n",
       "    .dataframe tbody tr th {\n",
       "        vertical-align: top;\n",
       "    }\n",
       "\n",
       "    .dataframe thead th {\n",
       "        text-align: right;\n",
       "    }\n",
       "</style>\n",
       "<table border=\"1\" class=\"dataframe\">\n",
       "  <thead>\n",
       "    <tr style=\"text-align: right;\">\n",
       "      <th></th>\n",
       "      <th>preference 1</th>\n",
       "      <th>prefrence 2</th>\n",
       "      <th>preference 3</th>\n",
       "    </tr>\n",
       "  </thead>\n",
       "  <tbody>\n",
       "    <tr>\n",
       "      <th>0</th>\n",
       "      <td>1</td>\n",
       "      <td>0</td>\n",
       "      <td>0</td>\n",
       "    </tr>\n",
       "    <tr>\n",
       "      <th>1</th>\n",
       "      <td>1</td>\n",
       "      <td>0</td>\n",
       "      <td>0</td>\n",
       "    </tr>\n",
       "    <tr>\n",
       "      <th>2</th>\n",
       "      <td>0</td>\n",
       "      <td>0</td>\n",
       "      <td>1</td>\n",
       "    </tr>\n",
       "    <tr>\n",
       "      <th>3</th>\n",
       "      <td>1</td>\n",
       "      <td>1</td>\n",
       "      <td>0</td>\n",
       "    </tr>\n",
       "    <tr>\n",
       "      <th>4</th>\n",
       "      <td>1</td>\n",
       "      <td>0</td>\n",
       "      <td>0</td>\n",
       "    </tr>\n",
       "  </tbody>\n",
       "</table>\n",
       "</div>"
      ],
      "text/plain": [
       "   preference 1  prefrence 2   preference 3\n",
       "0             1            0              0\n",
       "1             1            0              0\n",
       "2             0            0              1\n",
       "3             1            1              0\n",
       "4             1            0              0"
      ]
     },
     "execution_count": 24,
     "metadata": {},
     "output_type": "execute_result"
    }
   ],
   "source": [
    "projects_as_mine.head()"
   ]
  },
  {
   "cell_type": "code",
   "execution_count": 26,
   "metadata": {},
   "outputs": [
    {
     "data": {
      "text/plain": [
       "preference 1     25\n",
       "prefrence 2      27\n",
       " preference 3    33\n",
       "dtype: int64"
      ]
     },
     "execution_count": 26,
     "metadata": {},
     "output_type": "execute_result"
    }
   ],
   "source": [
    "count"
   ]
  },
  {
   "cell_type": "code",
   "execution_count": null,
   "metadata": {},
   "outputs": [],
   "source": []
  }
 ],
 "metadata": {
  "kernelspec": {
   "display_name": "Python 3",
   "language": "python",
   "name": "python3"
  },
  "language_info": {
   "codemirror_mode": {
    "name": "ipython",
    "version": 3
   },
   "file_extension": ".py",
   "mimetype": "text/x-python",
   "name": "python",
   "nbconvert_exporter": "python",
   "pygments_lexer": "ipython3",
   "version": "3.10.6"
  },
  "orig_nbformat": 4,
  "vscode": {
   "interpreter": {
    "hash": "916dbcbb3f70747c44a77c7bcd40155683ae19c65e1c03b4aa3499c5328201f1"
   }
  }
 },
 "nbformat": 4,
 "nbformat_minor": 2
}
