{
 "cells": [
  {
   "cell_type": "code",
   "execution_count": 104,
   "metadata": {},
   "outputs": [],
   "source": [
    "#lab pc: 9_79\n",
    "#Alessio Pellegrino 0001092614\n",
    "import pandas as pd\n",
    "import numpy as np\n",
    "import matplotlib.pyplot as plt\n",
    "import seaborn as sns\n",
    "from sklearn.linear_model import LinearRegression\n",
    "from sklearn.tree import DecisionTreeRegressor\n",
    "from sklearn.model_selection import cross_val_score\n",
    "from sklearn.model_selection import train_test_split\n",
    "from sklearn.metrics import mean_squared_error\n",
    "from warnings import filterwarnings\n",
    "\n",
    "filterwarnings('ignore')\n",
    "\n",
    "%matplotlib inline\n",
    "\n",
    "random_state = 42"
   ]
  },
  {
   "attachments": {},
   "cell_type": "markdown",
   "metadata": {},
   "source": [
    "# 1: import the data and explore it"
   ]
  },
  {
   "cell_type": "code",
   "execution_count": 105,
   "metadata": {},
   "outputs": [
    {
     "data": {
      "text/html": [
       "<div>\n",
       "<style scoped>\n",
       "    .dataframe tbody tr th:only-of-type {\n",
       "        vertical-align: middle;\n",
       "    }\n",
       "\n",
       "    .dataframe tbody tr th {\n",
       "        vertical-align: top;\n",
       "    }\n",
       "\n",
       "    .dataframe thead th {\n",
       "        text-align: right;\n",
       "    }\n",
       "</style>\n",
       "<table border=\"1\" class=\"dataframe\">\n",
       "  <thead>\n",
       "    <tr style=\"text-align: right;\">\n",
       "      <th></th>\n",
       "      <th>X00</th>\n",
       "      <th>X01</th>\n",
       "      <th>X02</th>\n",
       "      <th>X03</th>\n",
       "      <th>X04</th>\n",
       "      <th>X05</th>\n",
       "      <th>X06</th>\n",
       "      <th>X07</th>\n",
       "      <th>X08</th>\n",
       "      <th>X09</th>\n",
       "      <th>y</th>\n",
       "    </tr>\n",
       "  </thead>\n",
       "  <tbody>\n",
       "    <tr>\n",
       "      <th>0</th>\n",
       "      <td>-0.016771</td>\n",
       "      <td>-0.026036</td>\n",
       "      <td>-0.001474</td>\n",
       "      <td>0.104545</td>\n",
       "      <td>0.352163</td>\n",
       "      <td>0.023372</td>\n",
       "      <td>0.003706</td>\n",
       "      <td>0.004963</td>\n",
       "      <td>-0.007113</td>\n",
       "      <td>0.022166</td>\n",
       "      <td>3.288439</td>\n",
       "    </tr>\n",
       "    <tr>\n",
       "      <th>1</th>\n",
       "      <td>-0.011618</td>\n",
       "      <td>0.025699</td>\n",
       "      <td>-0.026818</td>\n",
       "      <td>0.053014</td>\n",
       "      <td>0.613195</td>\n",
       "      <td>-0.012447</td>\n",
       "      <td>0.029382</td>\n",
       "      <td>-0.006348</td>\n",
       "      <td>-0.036920</td>\n",
       "      <td>-0.016464</td>\n",
       "      <td>-2.333510</td>\n",
       "    </tr>\n",
       "    <tr>\n",
       "      <th>2</th>\n",
       "      <td>0.027478</td>\n",
       "      <td>0.009282</td>\n",
       "      <td>-0.020700</td>\n",
       "      <td>0.630085</td>\n",
       "      <td>0.612415</td>\n",
       "      <td>-0.004157</td>\n",
       "      <td>0.008240</td>\n",
       "      <td>0.019062</td>\n",
       "      <td>0.010821</td>\n",
       "      <td>-0.012983</td>\n",
       "      <td>2.259783</td>\n",
       "    </tr>\n",
       "    <tr>\n",
       "      <th>3</th>\n",
       "      <td>-0.003170</td>\n",
       "      <td>-0.001697</td>\n",
       "      <td>-0.028924</td>\n",
       "      <td>0.389900</td>\n",
       "      <td>0.000182</td>\n",
       "      <td>0.027526</td>\n",
       "      <td>0.012792</td>\n",
       "      <td>-0.021192</td>\n",
       "      <td>-0.011102</td>\n",
       "      <td>0.015352</td>\n",
       "      <td>2.939127</td>\n",
       "    </tr>\n",
       "    <tr>\n",
       "      <th>4</th>\n",
       "      <td>-0.039508</td>\n",
       "      <td>-0.009104</td>\n",
       "      <td>0.021215</td>\n",
       "      <td>0.951426</td>\n",
       "      <td>0.778600</td>\n",
       "      <td>0.018246</td>\n",
       "      <td>-0.000294</td>\n",
       "      <td>-0.012900</td>\n",
       "      <td>0.004178</td>\n",
       "      <td>0.014846</td>\n",
       "      <td>1.623948</td>\n",
       "    </tr>\n",
       "  </tbody>\n",
       "</table>\n",
       "</div>"
      ],
      "text/plain": [
       "        X00       X01       X02       X03       X04       X05       X06  \\\n",
       "0 -0.016771 -0.026036 -0.001474  0.104545  0.352163  0.023372  0.003706   \n",
       "1 -0.011618  0.025699 -0.026818  0.053014  0.613195 -0.012447  0.029382   \n",
       "2  0.027478  0.009282 -0.020700  0.630085  0.612415 -0.004157  0.008240   \n",
       "3 -0.003170 -0.001697 -0.028924  0.389900  0.000182  0.027526  0.012792   \n",
       "4 -0.039508 -0.009104  0.021215  0.951426  0.778600  0.018246 -0.000294   \n",
       "\n",
       "        X07       X08       X09         y  \n",
       "0  0.004963 -0.007113  0.022166  3.288439  \n",
       "1 -0.006348 -0.036920 -0.016464 -2.333510  \n",
       "2  0.019062  0.010821 -0.012983  2.259783  \n",
       "3 -0.021192 -0.011102  0.015352  2.939127  \n",
       "4 -0.012900  0.004178  0.014846  1.623948  "
      ]
     },
     "execution_count": 105,
     "metadata": {},
     "output_type": "execute_result"
    }
   ],
   "source": [
    "data_url = './ml_python_labexam_2023_02_03.csv'\n",
    "data = pd.read_csv(data_url)\n",
    "data.head()"
   ]
  },
  {
   "cell_type": "code",
   "execution_count": 106,
   "metadata": {},
   "outputs": [
    {
     "name": "stdout",
     "output_type": "stream",
     "text": [
      "data rows: 1000, data columns: 11, with 1 target column called: y\n"
     ]
    }
   ],
   "source": [
    "target = 'y'\n",
    "print(f'data rows: {data.shape[0]}, data columns: {data.shape[1]}, with 1 target column called: {target}')"
   ]
  },
  {
   "cell_type": "code",
   "execution_count": 107,
   "metadata": {},
   "outputs": [
    {
     "data": {
      "text/html": [
       "<div>\n",
       "<style scoped>\n",
       "    .dataframe tbody tr th:only-of-type {\n",
       "        vertical-align: middle;\n",
       "    }\n",
       "\n",
       "    .dataframe tbody tr th {\n",
       "        vertical-align: top;\n",
       "    }\n",
       "\n",
       "    .dataframe thead th {\n",
       "        text-align: right;\n",
       "    }\n",
       "</style>\n",
       "<table border=\"1\" class=\"dataframe\">\n",
       "  <thead>\n",
       "    <tr style=\"text-align: right;\">\n",
       "      <th></th>\n",
       "      <th>X00</th>\n",
       "      <th>X01</th>\n",
       "      <th>X02</th>\n",
       "      <th>X03</th>\n",
       "      <th>X04</th>\n",
       "      <th>X05</th>\n",
       "      <th>X06</th>\n",
       "      <th>X07</th>\n",
       "      <th>X08</th>\n",
       "      <th>X09</th>\n",
       "      <th>y</th>\n",
       "    </tr>\n",
       "  </thead>\n",
       "  <tbody>\n",
       "    <tr>\n",
       "      <th>count</th>\n",
       "      <td>1000.000000</td>\n",
       "      <td>1000.000000</td>\n",
       "      <td>1000.000000</td>\n",
       "      <td>1.000000e+03</td>\n",
       "      <td>1.000000e+03</td>\n",
       "      <td>1000.000000</td>\n",
       "      <td>1000.000000</td>\n",
       "      <td>1000.000000</td>\n",
       "      <td>1000.000000</td>\n",
       "      <td>1000.000000</td>\n",
       "      <td>1000.000000</td>\n",
       "    </tr>\n",
       "    <tr>\n",
       "      <th>mean</th>\n",
       "      <td>0.000127</td>\n",
       "      <td>0.000297</td>\n",
       "      <td>-0.000421</td>\n",
       "      <td>3.378287e-01</td>\n",
       "      <td>2.521912e-01</td>\n",
       "      <td>0.000364</td>\n",
       "      <td>-0.000191</td>\n",
       "      <td>0.000553</td>\n",
       "      <td>0.000130</td>\n",
       "      <td>0.000524</td>\n",
       "      <td>0.437747</td>\n",
       "    </tr>\n",
       "    <tr>\n",
       "      <th>std</th>\n",
       "      <td>0.023475</td>\n",
       "      <td>0.018878</td>\n",
       "      <td>0.019124</td>\n",
       "      <td>2.952473e-01</td>\n",
       "      <td>2.877240e-01</td>\n",
       "      <td>0.017402</td>\n",
       "      <td>0.019349</td>\n",
       "      <td>0.017783</td>\n",
       "      <td>0.018999</td>\n",
       "      <td>0.025391</td>\n",
       "      <td>2.407762</td>\n",
       "    </tr>\n",
       "    <tr>\n",
       "      <th>min</th>\n",
       "      <td>-0.074550</td>\n",
       "      <td>-0.055749</td>\n",
       "      <td>-0.063489</td>\n",
       "      <td>9.531015e-07</td>\n",
       "      <td>6.913766e-10</td>\n",
       "      <td>-0.054694</td>\n",
       "      <td>-0.058531</td>\n",
       "      <td>-0.054578</td>\n",
       "      <td>-0.062925</td>\n",
       "      <td>-0.073059</td>\n",
       "      <td>-6.609545</td>\n",
       "    </tr>\n",
       "    <tr>\n",
       "      <th>25%</th>\n",
       "      <td>-0.015763</td>\n",
       "      <td>-0.012357</td>\n",
       "      <td>-0.013722</td>\n",
       "      <td>6.778294e-02</td>\n",
       "      <td>1.552023e-02</td>\n",
       "      <td>-0.011251</td>\n",
       "      <td>-0.013393</td>\n",
       "      <td>-0.011797</td>\n",
       "      <td>-0.012001</td>\n",
       "      <td>-0.018202</td>\n",
       "      <td>-1.200759</td>\n",
       "    </tr>\n",
       "    <tr>\n",
       "      <th>50%</th>\n",
       "      <td>0.000446</td>\n",
       "      <td>0.000269</td>\n",
       "      <td>-0.000891</td>\n",
       "      <td>2.638645e-01</td>\n",
       "      <td>1.218160e-01</td>\n",
       "      <td>0.000675</td>\n",
       "      <td>-0.000333</td>\n",
       "      <td>0.000422</td>\n",
       "      <td>-0.000858</td>\n",
       "      <td>-0.000219</td>\n",
       "      <td>0.336424</td>\n",
       "    </tr>\n",
       "    <tr>\n",
       "      <th>75%</th>\n",
       "      <td>0.015529</td>\n",
       "      <td>0.013924</td>\n",
       "      <td>0.012571</td>\n",
       "      <td>5.712697e-01</td>\n",
       "      <td>4.295876e-01</td>\n",
       "      <td>0.012217</td>\n",
       "      <td>0.012797</td>\n",
       "      <td>0.012697</td>\n",
       "      <td>0.012722</td>\n",
       "      <td>0.018642</td>\n",
       "      <td>2.175038</td>\n",
       "    </tr>\n",
       "    <tr>\n",
       "      <th>max</th>\n",
       "      <td>0.079599</td>\n",
       "      <td>0.073114</td>\n",
       "      <td>0.052593</td>\n",
       "      <td>9.996939e-01</td>\n",
       "      <td>9.988956e-01</td>\n",
       "      <td>0.053673</td>\n",
       "      <td>0.051803</td>\n",
       "      <td>0.049480</td>\n",
       "      <td>0.061867</td>\n",
       "      <td>0.081461</td>\n",
       "      <td>7.915506</td>\n",
       "    </tr>\n",
       "  </tbody>\n",
       "</table>\n",
       "</div>"
      ],
      "text/plain": [
       "               X00          X01          X02           X03           X04  \\\n",
       "count  1000.000000  1000.000000  1000.000000  1.000000e+03  1.000000e+03   \n",
       "mean      0.000127     0.000297    -0.000421  3.378287e-01  2.521912e-01   \n",
       "std       0.023475     0.018878     0.019124  2.952473e-01  2.877240e-01   \n",
       "min      -0.074550    -0.055749    -0.063489  9.531015e-07  6.913766e-10   \n",
       "25%      -0.015763    -0.012357    -0.013722  6.778294e-02  1.552023e-02   \n",
       "50%       0.000446     0.000269    -0.000891  2.638645e-01  1.218160e-01   \n",
       "75%       0.015529     0.013924     0.012571  5.712697e-01  4.295876e-01   \n",
       "max       0.079599     0.073114     0.052593  9.996939e-01  9.988956e-01   \n",
       "\n",
       "               X05          X06          X07          X08          X09  \\\n",
       "count  1000.000000  1000.000000  1000.000000  1000.000000  1000.000000   \n",
       "mean      0.000364    -0.000191     0.000553     0.000130     0.000524   \n",
       "std       0.017402     0.019349     0.017783     0.018999     0.025391   \n",
       "min      -0.054694    -0.058531    -0.054578    -0.062925    -0.073059   \n",
       "25%      -0.011251    -0.013393    -0.011797    -0.012001    -0.018202   \n",
       "50%       0.000675    -0.000333     0.000422    -0.000858    -0.000219   \n",
       "75%       0.012217     0.012797     0.012697     0.012722     0.018642   \n",
       "max       0.053673     0.051803     0.049480     0.061867     0.081461   \n",
       "\n",
       "                 y  \n",
       "count  1000.000000  \n",
       "mean      0.437747  \n",
       "std       2.407762  \n",
       "min      -6.609545  \n",
       "25%      -1.200759  \n",
       "50%       0.336424  \n",
       "75%       2.175038  \n",
       "max       7.915506  "
      ]
     },
     "execution_count": 107,
     "metadata": {},
     "output_type": "execute_result"
    }
   ],
   "source": [
    "data.describe()"
   ]
  },
  {
   "cell_type": "code",
   "execution_count": 108,
   "metadata": {},
   "outputs": [
    {
     "data": {
      "image/png": "[encoded data removed]",
      "text/plain": [
       "<Figure size 640x480 with 1 Axes>"
      ]
     },
     "metadata": {},
     "output_type": "display_data"
    }
   ],
   "source": [
    "data.plot.box();"
   ]
  },
  {
   "cell_type": "code",
   "execution_count": 109,
   "metadata": {},
   "outputs": [
    {
     "data": {
      "text/html": [
       "<div>\n",
       "<style scoped>\n",
       "    .dataframe tbody tr th:only-of-type {\n",
       "        vertical-align: middle;\n",
       "    }\n",
       "\n",
       "    .dataframe tbody tr th {\n",
       "        vertical-align: top;\n",
       "    }\n",
       "\n",
       "    .dataframe thead th {\n",
       "        text-align: right;\n",
       "    }\n",
       "</style>\n",
       "<table border=\"1\" class=\"dataframe\">\n",
       "  <thead>\n",
       "    <tr style=\"text-align: right;\">\n",
       "      <th></th>\n",
       "      <th>X00</th>\n",
       "      <th>X01</th>\n",
       "      <th>X02</th>\n",
       "      <th>X03</th>\n",
       "      <th>X04</th>\n",
       "      <th>X05</th>\n",
       "      <th>X06</th>\n",
       "      <th>X07</th>\n",
       "      <th>X08</th>\n",
       "      <th>X09</th>\n",
       "      <th>y</th>\n",
       "    </tr>\n",
       "  </thead>\n",
       "  <tbody>\n",
       "    <tr>\n",
       "      <th>X00</th>\n",
       "      <td>1.000000</td>\n",
       "      <td>0.170854</td>\n",
       "      <td>-0.395194</td>\n",
       "      <td>-0.043222</td>\n",
       "      <td>-0.023247</td>\n",
       "      <td>-0.275844</td>\n",
       "      <td>0.280314</td>\n",
       "      <td>0.243400</td>\n",
       "      <td>-0.325324</td>\n",
       "      <td>-0.153477</td>\n",
       "      <td>0.227594</td>\n",
       "    </tr>\n",
       "    <tr>\n",
       "      <th>X01</th>\n",
       "      <td>0.170854</td>\n",
       "      <td>1.000000</td>\n",
       "      <td>-0.308342</td>\n",
       "      <td>0.015840</td>\n",
       "      <td>-0.059226</td>\n",
       "      <td>0.102338</td>\n",
       "      <td>0.047167</td>\n",
       "      <td>0.086368</td>\n",
       "      <td>0.009363</td>\n",
       "      <td>-0.268953</td>\n",
       "      <td>0.170725</td>\n",
       "    </tr>\n",
       "    <tr>\n",
       "      <th>X02</th>\n",
       "      <td>-0.395194</td>\n",
       "      <td>-0.308342</td>\n",
       "      <td>1.000000</td>\n",
       "      <td>0.028499</td>\n",
       "      <td>0.036766</td>\n",
       "      <td>-0.266042</td>\n",
       "      <td>-0.326706</td>\n",
       "      <td>0.043103</td>\n",
       "      <td>0.195065</td>\n",
       "      <td>0.112824</td>\n",
       "      <td>-0.287004</td>\n",
       "    </tr>\n",
       "    <tr>\n",
       "      <th>X03</th>\n",
       "      <td>-0.043222</td>\n",
       "      <td>0.015840</td>\n",
       "      <td>0.028499</td>\n",
       "      <td>1.000000</td>\n",
       "      <td>-0.049209</td>\n",
       "      <td>0.008271</td>\n",
       "      <td>0.011157</td>\n",
       "      <td>-0.006028</td>\n",
       "      <td>0.029519</td>\n",
       "      <td>-0.006292</td>\n",
       "      <td>-0.005415</td>\n",
       "    </tr>\n",
       "    <tr>\n",
       "      <th>X04</th>\n",
       "      <td>-0.023247</td>\n",
       "      <td>-0.059226</td>\n",
       "      <td>0.036766</td>\n",
       "      <td>-0.049209</td>\n",
       "      <td>1.000000</td>\n",
       "      <td>-0.018662</td>\n",
       "      <td>-0.048011</td>\n",
       "      <td>-0.002504</td>\n",
       "      <td>-0.006653</td>\n",
       "      <td>0.042886</td>\n",
       "      <td>0.002213</td>\n",
       "    </tr>\n",
       "    <tr>\n",
       "      <th>X05</th>\n",
       "      <td>-0.275844</td>\n",
       "      <td>0.102338</td>\n",
       "      <td>-0.266042</td>\n",
       "      <td>0.008271</td>\n",
       "      <td>-0.018662</td>\n",
       "      <td>1.000000</td>\n",
       "      <td>0.119608</td>\n",
       "      <td>-0.292621</td>\n",
       "      <td>0.115454</td>\n",
       "      <td>0.021566</td>\n",
       "      <td>0.369986</td>\n",
       "    </tr>\n",
       "    <tr>\n",
       "      <th>X06</th>\n",
       "      <td>0.280314</td>\n",
       "      <td>0.047167</td>\n",
       "      <td>-0.326706</td>\n",
       "      <td>0.011157</td>\n",
       "      <td>-0.048011</td>\n",
       "      <td>0.119608</td>\n",
       "      <td>1.000000</td>\n",
       "      <td>-0.228867</td>\n",
       "      <td>0.054893</td>\n",
       "      <td>-0.274311</td>\n",
       "      <td>0.376340</td>\n",
       "    </tr>\n",
       "    <tr>\n",
       "      <th>X07</th>\n",
       "      <td>0.243400</td>\n",
       "      <td>0.086368</td>\n",
       "      <td>0.043103</td>\n",
       "      <td>-0.006028</td>\n",
       "      <td>-0.002504</td>\n",
       "      <td>-0.292621</td>\n",
       "      <td>-0.228867</td>\n",
       "      <td>1.000000</td>\n",
       "      <td>-0.145627</td>\n",
       "      <td>-0.132451</td>\n",
       "      <td>-0.056175</td>\n",
       "    </tr>\n",
       "    <tr>\n",
       "      <th>X08</th>\n",
       "      <td>-0.325324</td>\n",
       "      <td>0.009363</td>\n",
       "      <td>0.195065</td>\n",
       "      <td>0.029519</td>\n",
       "      <td>-0.006653</td>\n",
       "      <td>0.115454</td>\n",
       "      <td>0.054893</td>\n",
       "      <td>-0.145627</td>\n",
       "      <td>1.000000</td>\n",
       "      <td>-0.316079</td>\n",
       "      <td>0.209655</td>\n",
       "    </tr>\n",
       "    <tr>\n",
       "      <th>X09</th>\n",
       "      <td>-0.153477</td>\n",
       "      <td>-0.268953</td>\n",
       "      <td>0.112824</td>\n",
       "      <td>-0.006292</td>\n",
       "      <td>0.042886</td>\n",
       "      <td>0.021566</td>\n",
       "      <td>-0.274311</td>\n",
       "      <td>-0.132451</td>\n",
       "      <td>-0.316079</td>\n",
       "      <td>1.000000</td>\n",
       "      <td>0.374650</td>\n",
       "    </tr>\n",
       "    <tr>\n",
       "      <th>y</th>\n",
       "      <td>0.227594</td>\n",
       "      <td>0.170725</td>\n",
       "      <td>-0.287004</td>\n",
       "      <td>-0.005415</td>\n",
       "      <td>0.002213</td>\n",
       "      <td>0.369986</td>\n",
       "      <td>0.376340</td>\n",
       "      <td>-0.056175</td>\n",
       "      <td>0.209655</td>\n",
       "      <td>0.374650</td>\n",
       "      <td>1.000000</td>\n",
       "    </tr>\n",
       "  </tbody>\n",
       "</table>\n",
       "</div>"
      ],
      "text/plain": [
       "          X00       X01       X02       X03       X04       X05       X06  \\\n",
       "X00  1.000000  0.170854 -0.395194 -0.043222 -0.023247 -0.275844  0.280314   \n",
       "X01  0.170854  1.000000 -0.308342  0.015840 -0.059226  0.102338  0.047167   \n",
       "X02 -0.395194 -0.308342  1.000000  0.028499  0.036766 -0.266042 -0.326706   \n",
       "X03 -0.043222  0.015840  0.028499  1.000000 -0.049209  0.008271  0.011157   \n",
       "X04 -0.023247 -0.059226  0.036766 -0.049209  1.000000 -0.018662 -0.048011   \n",
       "X05 -0.275844  0.102338 -0.266042  0.008271 -0.018662  1.000000  0.119608   \n",
       "X06  0.280314  0.047167 -0.326706  0.011157 -0.048011  0.119608  1.000000   \n",
       "X07  0.243400  0.086368  0.043103 -0.006028 -0.002504 -0.292621 -0.228867   \n",
       "X08 -0.325324  0.009363  0.195065  0.029519 -0.006653  0.115454  0.054893   \n",
       "X09 -0.153477 -0.268953  0.112824 -0.006292  0.042886  0.021566 -0.274311   \n",
       "y    0.227594  0.170725 -0.287004 -0.005415  0.002213  0.369986  0.376340   \n",
       "\n",
       "          X07       X08       X09         y  \n",
       "X00  0.243400 -0.325324 -0.153477  0.227594  \n",
       "X01  0.086368  0.009363 -0.268953  0.170725  \n",
       "X02  0.043103  0.195065  0.112824 -0.287004  \n",
       "X03 -0.006028  0.029519 -0.006292 -0.005415  \n",
       "X04 -0.002504 -0.006653  0.042886  0.002213  \n",
       "X05 -0.292621  0.115454  0.021566  0.369986  \n",
       "X06 -0.228867  0.054893 -0.274311  0.376340  \n",
       "X07  1.000000 -0.145627 -0.132451 -0.056175  \n",
       "X08 -0.145627  1.000000 -0.316079  0.209655  \n",
       "X09 -0.132451 -0.316079  1.000000  0.374650  \n",
       "y   -0.056175  0.209655  0.374650  1.000000  "
      ]
     },
     "execution_count": 109,
     "metadata": {},
     "output_type": "execute_result"
    }
   ],
   "source": [
    "correlation_matrix = data.corr()\n",
    "correlation_matrix"
   ]
  },
  {
   "attachments": {},
   "cell_type": "markdown",
   "metadata": {},
   "source": [
    "# 2: comment the data exploration"
   ]
  },
  {
   "cell_type": "code",
   "execution_count": 110,
   "metadata": {},
   "outputs": [
    {
     "name": "stdout",
     "output_type": "stream",
     "text": [
      "the columns:\n",
      "Index(['X03', 'X04', 'X07'], dtype='object')\n",
      "have less then 0.15 correlation (in absolute value) with the target\n"
     ]
    }
   ],
   "source": [
    "print(f'the columns:\\n{correlation_matrix[np.absolute(correlation_matrix[\"y\"]) < 0.15][\"y\"].index}\\nhave less then 0.15 correlation (in absolute value) with the target')"
   ]
  },
  {
   "attachments": {},
   "cell_type": "markdown",
   "metadata": {},
   "source": [
    "Also the boxplot shows that the target has a much higher range than the others column and the columns X03 and X04 also have wider ranges than the others"
   ]
  },
  {
   "attachments": {},
   "cell_type": "markdown",
   "metadata": {},
   "source": [
    "# 3: train a multivariate linear regression model and show the mean square error"
   ]
  },
  {
   "cell_type": "code",
   "execution_count": 111,
   "metadata": {},
   "outputs": [
    {
     "name": "stdout",
     "output_type": "stream",
     "text": [
      "there are 750 elements in the train set and 250 elements in the test set\n"
     ]
    }
   ],
   "source": [
    "#data split\n",
    "X = data.drop(target, axis=1)\n",
    "y = data[target]\n",
    "X_train, X_test, y_train, y_test = train_test_split(X, y, random_state=random_state)\n",
    "print(f'there are {X_train.shape[0]} elements in the train set and {X_test.shape[0]} elements in the test set')"
   ]
  },
  {
   "cell_type": "code",
   "execution_count": 112,
   "metadata": {},
   "outputs": [
    {
     "name": "stdout",
     "output_type": "stream",
     "text": [
      "the root mean squared error on the train set is: 0.8670255051442635, the root mean squared error on the test set is: 0.8820070529564412\n"
     ]
    }
   ],
   "source": [
    "linear_model = LinearRegression()\n",
    "linear_model.fit(X_train, y_train)\n",
    "y_train_predicted = linear_model.predict(X_train)\n",
    "y_test_predicted = linear_model.predict(X_test)\n",
    "\n",
    "train_rmse = mean_squared_error(y_train, y_train_predicted, squared=False)\n",
    "test_rmse = mean_squared_error(y_test, y_test_predicted, squared=False)\n",
    "\n",
    "print(f'the root mean squared error on the train set is: {train_rmse}, the root mean squared error on the test set is: {test_rmse}')"
   ]
  },
  {
   "attachments": {},
   "cell_type": "markdown",
   "metadata": {},
   "source": [
    "# 4 train a linear regression model with a reduced dataset "
   ]
  },
  {
   "cell_type": "code",
   "execution_count": 113,
   "metadata": {},
   "outputs": [
    {
     "name": "stdout",
     "output_type": "stream",
     "text": [
      "there are 750 elements in the train set and 250 elements in the test set\n"
     ]
    }
   ],
   "source": [
    "#data split\n",
    "reduced_data = data.drop(correlation_matrix[np.absolute(correlation_matrix[\"y\"]) < 0.15][\"y\"].index, axis=1)\n",
    "X = reduced_data.drop(target, axis=1)\n",
    "y = reduced_data[target]\n",
    "X_train, X_test, y_train, y_test = train_test_split(X, y, random_state=random_state)\n",
    "print(f'there are {X_train.shape[0]} elements in the train set and {X_test.shape[0]} elements in the test set')"
   ]
  },
  {
   "cell_type": "code",
   "execution_count": 114,
   "metadata": {},
   "outputs": [
    {
     "name": "stdout",
     "output_type": "stream",
     "text": [
      "the root mean squared error on the train set is: 1.00175191197745, the root mean squared error on the test set is: 0.9970971528993043\n"
     ]
    }
   ],
   "source": [
    "linear_model = LinearRegression()\n",
    "linear_model.fit(X_train, y_train)\n",
    "y_train_predicted = linear_model.predict(X_train)\n",
    "y_test_predicted = linear_model.predict(X_test)\n",
    "\n",
    "train_rmse = mean_squared_error(y_train, y_train_predicted, squared=False)\n",
    "test_rmse = mean_squared_error(y_test, y_test_predicted, squared=False)\n",
    "\n",
    "print(f'the root mean squared error on the train set is: {train_rmse}, the root mean squared error on the test set is: {test_rmse}')"
   ]
  },
  {
   "attachments": {},
   "cell_type": "markdown",
   "metadata": {},
   "source": [
    "# 5: train and test on the reduced dataset a decision tree regressor, and show the Root Mean Squared Error"
   ]
  },
  {
   "cell_type": "code",
   "execution_count": 115,
   "metadata": {},
   "outputs": [
    {
     "name": "stdout",
     "output_type": "stream",
     "text": [
      "the root mean squared error on the train set is: 0.0, the root mean squared error on the test set is: 2.0920932042258853\n"
     ]
    }
   ],
   "source": [
    "tree_model = DecisionTreeRegressor(random_state=random_state)\n",
    "tree_model.fit(X_train, y_train)\n",
    "y_train_predicted = tree_model.predict(X_train)\n",
    "y_test_predicted = tree_model.predict(X_test)\n",
    "\n",
    "train_rmse = mean_squared_error(y_train, y_train_predicted, squared=False)\n",
    "test_rmse = mean_squared_error(y_test, y_test_predicted, squared=False)\n",
    "\n",
    "print(f'the root mean squared error on the train set is: {train_rmse}, the root mean squared error on the test set is: {test_rmse}')"
   ]
  },
  {
   "attachments": {},
   "cell_type": "markdown",
   "metadata": {},
   "source": [
    "# 5: optimise the depth of the decision tree regressor  "
   ]
  },
  {
   "cell_type": "code",
   "execution_count": 116,
   "metadata": {},
   "outputs": [
    {
     "name": "stdout",
     "output_type": "stream",
     "text": [
      "the max depth of the tree model is: 20\n"
     ]
    }
   ],
   "source": [
    "max_depth = tree_model.tree_.max_depth\n",
    "print(f'the max depth of the tree model is: {max_depth}')"
   ]
  },
  {
   "cell_type": "code",
   "execution_count": 117,
   "metadata": {},
   "outputs": [],
   "source": [
    "depth_range = range(1, max_depth + 1)\n",
    "rmse_values = []\n",
    "\n",
    "for dept in depth_range:\n",
    "    model = DecisionTreeRegressor(max_depth=dept, random_state=random_state)\n",
    "    rmse = cross_val_score(model, X_train, y_train, scoring='neg_root_mean_squared_error')\n",
    "    rmse_values.append(np.mean(rmse))"
   ]
  },
  {
   "cell_type": "code",
   "execution_count": 118,
   "metadata": {},
   "outputs": [
    {
     "name": "stdout",
     "output_type": "stream",
     "text": [
      "the best max depth value is: 7\n"
     ]
    },
    {
     "data": {
      "image/png": "[encoded data removed]",
      "text/plain": [
       "<Figure size 640x480 with 1 Axes>"
      ]
     },
     "metadata": {},
     "output_type": "display_data"
    }
   ],
   "source": [
    "best_depth = depth_range[np.argmax(rmse_values)]\n",
    "print(f'the best max depth value is: {best_depth}')\n",
    "plt.plot(range(len(rmse_values)), rmse_values);"
   ]
  },
  {
   "cell_type": "code",
   "execution_count": 119,
   "metadata": {},
   "outputs": [
    {
     "name": "stdout",
     "output_type": "stream",
     "text": [
      "the best decision tree root mean squared error on the train set is: 1.0424279050893013, the best decision tree root mean squared error on the test set is: 2.098818358839345\n"
     ]
    }
   ],
   "source": [
    "best_tree_model = DecisionTreeRegressor(max_depth=best_depth, random_state=random_state)\n",
    "best_tree_model.fit(X_train, y_train)\n",
    "best_y_train_predicted = best_tree_model.predict(X_train)\n",
    "best_y_test_predicted = best_tree_model.predict(X_test)\n",
    "\n",
    "best_train_rmse = mean_squared_error(y_train, best_y_train_predicted, squared=False)\n",
    "best_test_rmse = mean_squared_error(y_test, best_y_test_predicted, squared=False)\n",
    "\n",
    "print(f'the best decision tree root mean squared error on the train set is: {best_train_rmse}, the best decision tree root mean squared error on the test set is: {best_test_rmse}')"
   ]
  },
  {
   "attachments": {},
   "cell_type": "markdown",
   "metadata": {},
   "source": [
    "# 7: comment the results "
   ]
  },
  {
   "attachments": {},
   "cell_type": "markdown",
   "metadata": {},
   "source": [
    "Removing the loosely correlated values from the dataset does not change the result of the linear regression model."
   ]
  },
  {
   "attachments": {},
   "cell_type": "markdown",
   "metadata": {},
   "source": [
    "The result on the train and test set on the linear regression model are basically identical (less then .1 difference) while the difference with the decision tree is much higher (test rmse is the duble of train rmse). Also the rmse value of the test set on the decision tree classifier is much higher than the linear regression one therefore a multivariate linear regression model probably better approximate the data"
   ]
  }
 ],
 "metadata": {
  "kernelspec": {
   "display_name": "Python 3",
   "language": "python",
   "name": "python3"
  },
  "language_info": {
   "codemirror_mode": {
    "name": "ipython",
    "version": 3
   },
   "file_extension": ".py",
   "mimetype": "text/x-python",
   "name": "python",
   "nbconvert_exporter": "python",
   "pygments_lexer": "ipython3",
   "version": "3.10.6"
  },
  "orig_nbformat": 4,
  "vscode": {
   "interpreter": {
    "hash": "916dbcbb3f70747c44a77c7bcd40155683ae19c65e1c03b4aa3499c5328201f1"
   }
  }
 },
 "nbformat": 4,
 "nbformat_minor": 2
}
